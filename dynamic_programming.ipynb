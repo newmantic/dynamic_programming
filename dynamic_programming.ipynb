{
  "nbformat": 4,
  "nbformat_minor": 0,
  "metadata": {
    "colab": {
      "provenance": [],
      "authorship_tag": "ABX9TyNtXCUtnfThvOAV7WY1QrOI",
      "include_colab_link": true
    },
    "kernelspec": {
      "name": "python3",
      "display_name": "Python 3"
    },
    "language_info": {
      "name": "python"
    }
  },
  "cells": [
    {
      "cell_type": "markdown",
      "metadata": {
        "id": "view-in-github",
        "colab_type": "text"
      },
      "source": [
        "<a href=\"https://colab.research.google.com/github/newmantic/dynamic_programming/blob/main/dynamic_programming.ipynb\" target=\"_parent\"><img src=\"https://colab.research.google.com/assets/colab-badge.svg\" alt=\"Open In Colab\"/></a>"
      ]
    },
    {
      "cell_type": "code",
      "execution_count": 1,
      "metadata": {
        "colab": {
          "base_uri": "https://localhost:8080/"
        },
        "id": "qhM_F8Ozl2dp",
        "outputId": "95e1b53c-5380-4a6f-d627-dfc095120c81"
      },
      "outputs": [
        {
          "output_type": "stream",
          "name": "stdout",
          "text": [
            "LCS length: 4, LCS: GTAB\n"
          ]
        }
      ],
      "source": [
        "def lcs(X, Y):\n",
        "    \"\"\"\n",
        "    Find the length of the longest common subsequence between X and Y.\n",
        "\n",
        "    Parameters:\n",
        "    X (str): First sequence.\n",
        "    Y (str): Second sequence.\n",
        "\n",
        "    Returns:\n",
        "    int: Length of the LCS.\n",
        "    str: The LCS itself.\n",
        "    \"\"\"\n",
        "    m = len(X)\n",
        "    n = len(Y)\n",
        "\n",
        "    # Create a table to store lengths of longest common subsequence\n",
        "    dp = [[0] * (n + 1) for _ in range(m + 1)]\n",
        "\n",
        "    # Build the dp table in bottom-up fashion\n",
        "    for i in range(1, m + 1):\n",
        "        for j in range(1, n + 1):\n",
        "            if X[i - 1] == Y[j - 1]:\n",
        "                dp[i][j] = dp[i - 1][j - 1] + 1\n",
        "            else:\n",
        "                dp[i][j] = max(dp[i - 1][j], dp[i][j - 1])\n",
        "\n",
        "    # Reconstruct the LCS\n",
        "    i, j = m, n\n",
        "    lcs_str = []\n",
        "\n",
        "    while i > 0 and j > 0:\n",
        "        if X[i - 1] == Y[j - 1]:\n",
        "            lcs_str.append(X[i - 1])\n",
        "            i -= 1\n",
        "            j -= 1\n",
        "        elif dp[i - 1][j] > dp[i][j - 1]:\n",
        "            i -= 1\n",
        "        else:\n",
        "            j -= 1\n",
        "\n",
        "    lcs_str.reverse()\n",
        "\n",
        "    return dp[m][n], ''.join(lcs_str)\n",
        "\n",
        "# Testable example:\n",
        "X = \"AGGTAB\"\n",
        "Y = \"GXTXAYB\"\n",
        "length, lcs_str = lcs(X, Y)\n",
        "print(f\"LCS length: {length}, LCS: {lcs_str}\")"
      ]
    },
    {
      "cell_type": "code",
      "source": [
        "def knapsack(weights, values, W):\n",
        "    \"\"\"\n",
        "    Solve the 0/1 Knapsack problem using dynamic programming.\n",
        "\n",
        "    Parameters:\n",
        "    weights (list): List of item weights.\n",
        "    values (list): List of item values.\n",
        "    W (int): Capacity of the knapsack.\n",
        "\n",
        "    Returns:\n",
        "    int: Maximum value that can be obtained.\n",
        "    \"\"\"\n",
        "    n = len(values)\n",
        "\n",
        "    # Create a table to store the maximum value that can be obtained for each weight\n",
        "    dp = [[0] * (W + 1) for _ in range(n + 1)]\n",
        "\n",
        "    # Build the dp table in bottom-up fashion\n",
        "    for i in range(1, n + 1):\n",
        "        for w in range(1, W + 1):\n",
        "            if weights[i - 1] <= w:\n",
        "                dp[i][w] = max(dp[i - 1][w], dp[i - 1][w - weights[i - 1]] + values[i - 1])\n",
        "            else:\n",
        "                dp[i][w] = dp[i - 1][w]\n",
        "\n",
        "    return dp[n][W]\n",
        "\n",
        "# Testable example:\n",
        "weights = [2, 3, 4, 5]\n",
        "values = [3, 4, 5, 6]\n",
        "W = 5\n",
        "max_value = knapsack(weights, values, W)\n",
        "print(f\"Maximum value in knapsack: {max_value}\")"
      ],
      "metadata": {
        "colab": {
          "base_uri": "https://localhost:8080/"
        },
        "id": "NQY-DutjmNON",
        "outputId": "51be7315-7964-4987-c17b-006d940957c7"
      },
      "execution_count": 2,
      "outputs": [
        {
          "output_type": "stream",
          "name": "stdout",
          "text": [
            "Maximum value in knapsack: 7\n"
          ]
        }
      ]
    },
    {
      "cell_type": "code",
      "source": [
        "def matrix_chain_order(p):\n",
        "    \"\"\"\n",
        "    Find the minimum number of scalar multiplications needed to multiply a chain of matrices.\n",
        "\n",
        "    Parameters:\n",
        "    p (list): List of matrix dimensions. p[i-1] x p[i] represents the dimension of the ith matrix.\n",
        "\n",
        "    Returns:\n",
        "    int: Minimum number of scalar multiplications needed.\n",
        "    \"\"\"\n",
        "    n = len(p) - 1  # Number of matrices\n",
        "    dp = [[0] * n for _ in range(n)]\n",
        "\n",
        "    # l is the chain length\n",
        "    for l in range(2, n + 1):\n",
        "        for i in range(n - l + 1):\n",
        "            j = i + l - 1\n",
        "            dp[i][j] = float('inf')\n",
        "            for k in range(i, j):\n",
        "                q = dp[i][k] + dp[k + 1][j] + p[i] * p[k + 1] * p[j + 1]\n",
        "                if q < dp[i][j]:\n",
        "                    dp[i][j] = q\n",
        "\n",
        "    return dp[0][n - 1]\n",
        "\n",
        "# Testable example:\n",
        "p = [1, 2, 3, 4]\n",
        "min_multiplications = matrix_chain_order(p)\n",
        "print(f\"Minimum number of multiplications: {min_multiplications}\")"
      ],
      "metadata": {
        "colab": {
          "base_uri": "https://localhost:8080/"
        },
        "id": "JnEJpZ0hmSVA",
        "outputId": "87533c83-fd89-4b25-fd46-08b0acda23c2"
      },
      "execution_count": 3,
      "outputs": [
        {
          "output_type": "stream",
          "name": "stdout",
          "text": [
            "Minimum number of multiplications: 18\n"
          ]
        }
      ]
    }
  ]
}