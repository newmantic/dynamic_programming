{
  "nbformat": 4,
  "nbformat_minor": 0,
  "metadata": {
    "colab": {
      "provenance": [],
      "authorship_tag": "ABX9TyN5r7V1B4hbn7dA/+1uwLDQ",
      "include_colab_link": true
    },
    "kernelspec": {
      "name": "python3",
      "display_name": "Python 3"
    },
    "language_info": {
      "name": "python"
    }
  },
  "cells": [
    {
      "cell_type": "markdown",
      "metadata": {
        "id": "view-in-github",
        "colab_type": "text"
      },
      "source": [
        "<a href=\"https://colab.research.google.com/github/newmantic/dynamic_programming/blob/main/dynamic_programming_2.ipynb\" target=\"_parent\"><img src=\"https://colab.research.google.com/assets/colab-badge.svg\" alt=\"Open In Colab\"/></a>"
      ]
    },
    {
      "cell_type": "code",
      "execution_count": 1,
      "metadata": {
        "colab": {
          "base_uri": "https://localhost:8080/"
        },
        "id": "3ddcdtuWnKsW",
        "outputId": "86569700-a187-43c8-c99b-5b9b71bc65cd"
      },
      "outputs": [
        {
          "output_type": "stream",
          "name": "stdout",
          "text": [
            "Minimum number of operations to convert 'sunday' to 'saturday': 3\n"
          ]
        }
      ],
      "source": [
        "def edit_distance(str1, str2):\n",
        "    \"\"\"\n",
        "    Calculate the edit distance between two strings using dynamic programming.\n",
        "\n",
        "    Parameters:\n",
        "    str1 (str): First string.\n",
        "    str2 (str): Second string.\n",
        "\n",
        "    Returns:\n",
        "    int: Minimum number of operations required to transform str1 into str2.\n",
        "    \"\"\"\n",
        "    m = len(str1)\n",
        "    n = len(str2)\n",
        "\n",
        "    # Create a DP table to store results of subproblems\n",
        "    dp = [[0] * (n + 1) for _ in range(m + 1)]\n",
        "\n",
        "    # Initialize the DP table\n",
        "    for i in range(m + 1):\n",
        "        for j in range(n + 1):\n",
        "            if i == 0:\n",
        "                dp[i][j] = j  # If str1 is empty, insert all characters of str2\n",
        "            elif j == 0:\n",
        "                dp[i][j] = i  # If str2 is empty, remove all characters of str1\n",
        "            elif str1[i - 1] == str2[j - 1]:\n",
        "                dp[i][j] = dp[i - 1][j - 1]  # If characters are the same, no operation needed\n",
        "            else:\n",
        "                dp[i][j] = 1 + min(dp[i][j - 1],    # Insert\n",
        "                                   dp[i - 1][j],    # Remove\n",
        "                                   dp[i - 1][j - 1])  # Replace\n",
        "\n",
        "    return dp[m][n]\n",
        "\n",
        "# Testable example:\n",
        "str1 = \"sunday\"\n",
        "str2 = \"saturday\"\n",
        "min_operations = edit_distance(str1, str2)\n",
        "print(f\"Minimum number of operations to convert '{str1}' to '{str2}': {min_operations}\")"
      ]
    },
    {
      "cell_type": "code",
      "source": [
        "def longest_palindromic_subsequence(s):\n",
        "    \"\"\"\n",
        "    Find the length of the longest palindromic subsequence in a string.\n",
        "\n",
        "    Parameters:\n",
        "    s (str): Input string.\n",
        "\n",
        "    Returns:\n",
        "    int: Length of the longest palindromic subsequence.\n",
        "    \"\"\"\n",
        "    n = len(s)\n",
        "\n",
        "    # Create a DP table to store results of subproblems\n",
        "    dp = [[0] * n for _ in range(n)]\n",
        "\n",
        "    # Every single character is a palindrome of length 1\n",
        "    for i in range(n):\n",
        "        dp[i][i] = 1\n",
        "\n",
        "    # Build the DP table\n",
        "    for cl in range(2, n + 1):\n",
        "        for i in range(n - cl + 1):\n",
        "            j = i + cl - 1\n",
        "            if s[i] == s[j] and cl == 2:\n",
        "                dp[i][j] = 2\n",
        "            elif s[i] == s[j]:\n",
        "                dp[i][j] = dp[i + 1][j - 1] + 2\n",
        "            else:\n",
        "                dp[i][j] = max(dp[i][j - 1], dp[i + 1][j])\n",
        "\n",
        "    return dp[0][n - 1]\n",
        "\n",
        "# Testable example:\n",
        "s = \"bbabcbcab\"\n",
        "length_lps = longest_palindromic_subsequence(s)\n",
        "print(f\"Length of the longest palindromic subsequence in '{s}': {length_lps}\")"
      ],
      "metadata": {
        "colab": {
          "base_uri": "https://localhost:8080/"
        },
        "id": "H_ejv2gonY5o",
        "outputId": "8c9399a1-3ddf-4e90-c1fc-172f34f83a0b"
      },
      "execution_count": 2,
      "outputs": [
        {
          "output_type": "stream",
          "name": "stdout",
          "text": [
            "Length of the longest palindromic subsequence in 'bbabcbcab': 7\n"
          ]
        }
      ]
    },
    {
      "cell_type": "code",
      "source": [
        "def can_partition(nums):\n",
        "    \"\"\"\n",
        "    Determine if a set can be partitioned into two subsets with equal sum.\n",
        "\n",
        "    Parameters:\n",
        "    nums (list): List of integers.\n",
        "\n",
        "    Returns:\n",
        "    bool: True if the set can be partitioned into two subsets with equal sum, False otherwise.\n",
        "    \"\"\"\n",
        "    total_sum = sum(nums)\n",
        "\n",
        "    # If total sum is odd, cannot partition into two equal subsets\n",
        "    if total_sum % 2 != 0:\n",
        "        return False\n",
        "\n",
        "    target = total_sum // 2\n",
        "    n = len(nums)\n",
        "\n",
        "    # Create a DP table to store results of subproblems\n",
        "    dp = [[False] * (target + 1) for _ in range(n + 1)]\n",
        "\n",
        "    # Initialize the DP table\n",
        "    for i in range(n + 1):\n",
        "        dp[i][0] = True\n",
        "\n",
        "    # Build the DP table\n",
        "    for i in range(1, n + 1):\n",
        "        for j in range(1, target + 1):\n",
        "            if nums[i - 1] <= j:\n",
        "                dp[i][j] = dp[i - 1][j] or dp[i - 1][j - nums[i - 1]]\n",
        "            else:\n",
        "                dp[i][j] = dp[i - 1][j]\n",
        "\n",
        "    return dp[n][target]\n",
        "\n",
        "# Testable example:\n",
        "nums = [1, 5, 11, 5]\n",
        "is_partition_possible = can_partition(nums)\n",
        "print(f\"Can the set {nums} be partitioned into two subsets with equal sum? {is_partition_possible}\")"
      ],
      "metadata": {
        "colab": {
          "base_uri": "https://localhost:8080/"
        },
        "id": "zi0f6kEGncEF",
        "outputId": "9c910ca1-dfce-480a-cd42-d19fe6c0c54e"
      },
      "execution_count": 3,
      "outputs": [
        {
          "output_type": "stream",
          "name": "stdout",
          "text": [
            "Can the set [1, 5, 11, 5] be partitioned into two subsets with equal sum? True\n"
          ]
        }
      ]
    }
  ]
}